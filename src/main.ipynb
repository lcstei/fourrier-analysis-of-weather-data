{
 "cells": [
  {
   "cell_type": "markdown",
   "metadata": {},
   "source": [
    "# IMPORTS & CONFIGS "
   ]
  },
  {
   "cell_type": "code",
   "execution_count": null,
   "metadata": {},
   "outputs": [],
   "source": [
    "import pandas as pd\n",
    "import matplotlib.pyplot as plt\n",
    "import numpy as np\n",
    "import os\n",
    "import os\n",
    "import glob\n",
    "from scipy import signal\n",
    "from scipy.stats import norm\n",
    "from scipy.optimize import curve_fit\n",
    "import re"
   ]
  },
  {
   "cell_type": "markdown",
   "metadata": {},
   "source": [
    "# INITIAL DATA PROCESSING"
   ]
  },
  {
   "cell_type": "code",
   "execution_count": null,
   "metadata": {},
   "outputs": [],
   "source": [
    "def data_start(dir: str) -> object:\n",
    "    df = pd.read_csv(dir, sep=';',decimal='.', index_col=False, skiprows=10, usecols=range(4), encoding='iso-8859-1')\n",
    "    df['datetime'] = pd.to_datetime(df.iloc[:, 0])\n",
    "    # Drop the original date and time columns by index\n",
    "    df.drop(df.columns[[0]], axis=1, inplace=True)\n",
    "    df.replace(-9999, np.nan, inplace=True)\n",
    "    df = df.dropna()\n",
    "    \n",
    "    df['year_month'] = df['datetime'].dt.to_period('M')\n",
    "    df.drop(df.columns[[-2]], axis=1, inplace=True)\n",
    "    target_columns = ['PRECIPITACAO TOTAL, DIARIO (AUT)(mm)', 'TEMPERATURA MEDIA, DIARIA (AUT)(Â°C)', 'UMIDADE RELATIVA DO AR, MEDIA DIARIA (AUT)(%)']\n",
    "\n",
    "    df[target_columns] = df[target_columns].map(\n",
    "        lambda x: re.sub(r'^\\.(\\d+)', r'0.\\1', x) if isinstance(x, str) else x\n",
    "    ).astype(float)\n",
    "    \n",
    "    monthly_avg = df.groupby('year_month').mean(numeric_only=True)\n",
    "    monthly_avg.reset_index(inplace=True)\n",
    "\n",
    "    del df\n",
    "\n",
    "    return monthly_avg.sort_values(\"year_month\")"
   ]
  },
  {
   "cell_type": "code",
   "execution_count": null,
   "metadata": {},
   "outputs": [],
   "source": [
    "def plot(df: object) -> None:\n",
    "    plt.figure(figsize=(10, 5))\n",
    "\n",
    "    # Plot the 'x' column\n",
    "    for i in df.columns:\n",
    "        if i != 'year_month':\n",
    "            plt.plot(df['year_month'], df[i], linestyle='-', label=i)  \n",
    "\n",
    "    # Adding titles and labels\n",
    "    plt.title('Data x Months')\n",
    "    plt.xlabel('DATA')\n",
    "    plt.ylabel('YEAR_MOUNTH')\n",
    "\n",
    "    # Adding a legend\n",
    "    plt.legend()\n",
    "\n",
    "    # Show the plot\n",
    "    plt.grid(True)\n",
    "    plt.show()"
   ]
  },
  {
   "cell_type": "markdown",
   "metadata": {},
   "source": [
    "# MAIN"
   ]
  },
  {
   "cell_type": "code",
   "execution_count": null,
   "metadata": {},
   "outputs": [],
   "source": [
    "data_dir = \"../Data/Auto\"\n",
    "filepaths = glob.glob(os.path.join(data_dir, \"*.csv\"))\n",
    "stations = {}\n",
    "for file in filepaths: \n",
    "    stations[file] = data_start(file)\n"
   ]
  },
  {
   "cell_type": "code",
   "execution_count": null,
   "metadata": {},
   "outputs": [],
   "source": [
    "def apply_convolution(x, window):\n",
    "    conv = np.repeat([0., 1., 0.], window)\n",
    "    filtered = signal.convolve(x, conv, mode='same') / window\n",
    "    return filtered\n",
    "window_ = len(df_treated)/10\n",
    "df_treated['denoise_temp'] = apply_convolution(df_treated['TEMPERATURA MÉDIA HORA (°C)'], window_)\n",
    "# plot(df_treated[['TEMPERATURA MÉDIA HORA (°C)', 'year_month']])\n",
    "df_treated['MA'] = df_treated['TEMPERATURA MÉDIA HORA (°C)'].rolling(window = window_).mean()\n",
    "plot(df_treated)\n",
    "# plt.ylabel('Temperature (deg C)')\n",
    "# df_treated['MA'].plot(figsize=(8,4), color=\"tab:red\", title=\"Rolling mean over annual periods\")\n",
    "df_treatedm = pd.DataFrame()\n",
    "df_treatedm['s'] = df_treated['denoise_temp'] - df_treated['MA']\n",
    "df_treatedm['s'] = df_treatedm['s'].dropna()\n",
    "df_treatedm['s'][df_treatedm['s'].tail(n=1).index] = 0\n",
    "df_treatedm['s'][df_treatedm['s'].tail(n=1).index-1] = 0\n",
    "df_treatedm['s'][df_treatedm['s'].tail(n=1).index-2] = 0\n",
    "df_treatedm.plot(figsize=(12,6))"
   ]
  },
  {
   "cell_type": "code",
   "execution_count": null,
   "metadata": {},
   "outputs": [],
   "source": [
    "fft_ = np.fft.fft(df_treated['TEMPERATURA MÉDIA HORA (°C)'])\n",
    "fft_freq = fftfreq = np.fft.fftfreq(len(df_treated['TEMPERATURA MÉDIA HORA (°C)']))*len(df_treated['TEMPERATURA MÉDIA HORA (°C)'])/(df_treated.index.max()-df_treated.index.min())\n",
    "plt.subplot(1, 2, 1)\n",
    "plt.xlabel(\"Frquency Domain\")\n",
    "plt.ylabel(\"Amplitude\")\n",
    "plt.plot(len(fft_), fft_)\n",
    "plt.subplot(1, 2, 2)\n",
    "plt.show()"
   ]
  }
 ],
 "metadata": {
  "kernelspec": {
   "display_name": "Python 3",
   "language": "python",
   "name": "python3"
  },
  "language_info": {
   "codemirror_mode": {
    "name": "ipython",
    "version": 3
   },
   "file_extension": ".py",
   "mimetype": "text/x-python",
   "name": "python",
   "nbconvert_exporter": "python",
   "pygments_lexer": "ipython3",
   "version": "3.12.1"
  }
 },
 "nbformat": 4,
 "nbformat_minor": 2
}
